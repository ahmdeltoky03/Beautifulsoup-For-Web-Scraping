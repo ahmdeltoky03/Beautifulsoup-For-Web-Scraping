{
 "cells": [
  {
   "cell_type": "code",
   "execution_count": 3,
   "id": "e789e5c7-01f6-4602-8ff2-f50c35f3bd46",
   "metadata": {},
   "outputs": [],
   "source": [
    "## Employee Data collecting\n",
    "## https://gorest.co.in/public-api/users?_format=json"
   ]
  },
  {
   "cell_type": "code",
   "execution_count": 4,
   "id": "19a45530-3c0f-47cf-8959-37284fd06eef",
   "metadata": {},
   "outputs": [],
   "source": [
    "import requests\n",
    "import json"
   ]
  },
  {
   "cell_type": "code",
   "execution_count": 6,
   "id": "e5c28746-3fe1-4f14-b2a8-5a9d81da77f1",
   "metadata": {},
   "outputs": [],
   "source": [
    "response = requests.get('https://gorest.co.in/public-api/users?_format=json')\n",
    "json_res = response.text"
   ]
  },
  {
   "cell_type": "code",
   "execution_count": 8,
   "id": "ffe6d9a7-770f-450d-b196-99f05a49726d",
   "metadata": {},
   "outputs": [
    {
     "data": {
      "text/plain": [
       "'{\"code\":200,\"meta\":{\"pagination\":{\"total\":2902,\"pages\":291,\"page\":1,\"limit\":10}},\"data\":[{\"id\":7301437,\"name\":\"Bhaumik Bhat\",\"email\":\"bhaumik_bhat@padberg-predovic.test\",\"gender\":\"male\",\"status\":\"active\"},{\"id\":7301435,\"name\":\"Gauranga Khanna\",\"email\":\"khanna_gauranga@krajcik-hamill.test\",\"gender\":\"female\",\"status\":\"inactive\"},{\"id\":7301434,\"name\":\"Ajeet Pothuvaal\",\"email\":\"ajeet_pothuvaal@rogahn.test\",\"gender\":\"male\",\"status\":\"inactive\"},{\"id\":7301433,\"name\":\"Anand Dutta\",\"email\":\"anand_dutta@ziemann.test\",\"gender\":\"female\",\"status\":\"inactive\"},{\"id\":7301432,\"name\":\"Bhisham Nayar\",\"email\":\"nayar_bhisham@tremblay-friesen.example\",\"gender\":\"male\",\"status\":\"active\"},{\"id\":7301431,\"name\":\"Rukmin Kaur\",\"email\":\"rukmin_kaur@bashirian.test\",\"gender\":\"female\",\"status\":\"active\"},{\"id\":7301430,\"name\":\"Deeksha Marar Esq.\",\"email\":\"deeksha_marar_esq@grady.example\",\"gender\":\"female\",\"status\":\"inactive\"},{\"id\":7301429,\"name\":\"Shwet Butt\",\"email\":\"butt_shwet@jerde.example\",\"gender\":\"male\",\"status\":\"active\"},{\"id\":7301428,\"name\":\"Deevakar Khan\",\"email\":\"khan_deevakar@williamson.example\",\"gender\":\"male\",\"status\":\"inactive\"},{\"id\":7301427,\"name\":\"Dhanalakshmi Bharadwaj\",\"email\":\"bharadwaj_dhanalakshmi@tillman.example\",\"gender\":\"male\",\"status\":\"inactive\"}]}'"
      ]
     },
     "execution_count": 8,
     "metadata": {},
     "output_type": "execute_result"
    }
   ],
   "source": [
    "json_res"
   ]
  },
  {
   "cell_type": "code",
   "execution_count": 16,
   "id": "691df43b-b890-42dc-aef7-659af7113c03",
   "metadata": {},
   "outputs": [],
   "source": [
    "json_result = json.loads(json_res)  "
   ]
  },
  {
   "cell_type": "code",
   "execution_count": 18,
   "id": "f7e2fa6a-d05c-4383-ad90-71d00da5a557",
   "metadata": {},
   "outputs": [
    {
     "data": {
      "text/plain": [
       "{'code': 200,\n",
       " 'meta': {'pagination': {'total': 2902, 'pages': 291, 'page': 1, 'limit': 10}},\n",
       " 'data': [{'id': 7301437,\n",
       "   'name': 'Bhaumik Bhat',\n",
       "   'email': 'bhaumik_bhat@padberg-predovic.test',\n",
       "   'gender': 'male',\n",
       "   'status': 'active'},\n",
       "  {'id': 7301435,\n",
       "   'name': 'Gauranga Khanna',\n",
       "   'email': 'khanna_gauranga@krajcik-hamill.test',\n",
       "   'gender': 'female',\n",
       "   'status': 'inactive'},\n",
       "  {'id': 7301434,\n",
       "   'name': 'Ajeet Pothuvaal',\n",
       "   'email': 'ajeet_pothuvaal@rogahn.test',\n",
       "   'gender': 'male',\n",
       "   'status': 'inactive'},\n",
       "  {'id': 7301433,\n",
       "   'name': 'Anand Dutta',\n",
       "   'email': 'anand_dutta@ziemann.test',\n",
       "   'gender': 'female',\n",
       "   'status': 'inactive'},\n",
       "  {'id': 7301432,\n",
       "   'name': 'Bhisham Nayar',\n",
       "   'email': 'nayar_bhisham@tremblay-friesen.example',\n",
       "   'gender': 'male',\n",
       "   'status': 'active'},\n",
       "  {'id': 7301431,\n",
       "   'name': 'Rukmin Kaur',\n",
       "   'email': 'rukmin_kaur@bashirian.test',\n",
       "   'gender': 'female',\n",
       "   'status': 'active'},\n",
       "  {'id': 7301430,\n",
       "   'name': 'Deeksha Marar Esq.',\n",
       "   'email': 'deeksha_marar_esq@grady.example',\n",
       "   'gender': 'female',\n",
       "   'status': 'inactive'},\n",
       "  {'id': 7301429,\n",
       "   'name': 'Shwet Butt',\n",
       "   'email': 'butt_shwet@jerde.example',\n",
       "   'gender': 'male',\n",
       "   'status': 'active'},\n",
       "  {'id': 7301428,\n",
       "   'name': 'Deevakar Khan',\n",
       "   'email': 'khan_deevakar@williamson.example',\n",
       "   'gender': 'male',\n",
       "   'status': 'inactive'},\n",
       "  {'id': 7301427,\n",
       "   'name': 'Dhanalakshmi Bharadwaj',\n",
       "   'email': 'bharadwaj_dhanalakshmi@tillman.example',\n",
       "   'gender': 'male',\n",
       "   'status': 'inactive'}]}"
      ]
     },
     "execution_count": 18,
     "metadata": {},
     "output_type": "execute_result"
    }
   ],
   "source": [
    "json_result"
   ]
  },
  {
   "cell_type": "code",
   "execution_count": 20,
   "id": "e71a7cc0-4f8c-4e30-8908-94b7f434d998",
   "metadata": {},
   "outputs": [
    {
     "data": {
      "text/plain": [
       "dict_keys(['code', 'meta', 'data'])"
      ]
     },
     "execution_count": 20,
     "metadata": {},
     "output_type": "execute_result"
    }
   ],
   "source": [
    "json_result.keys()"
   ]
  },
  {
   "cell_type": "code",
   "execution_count": 26,
   "id": "df66fc89-06a5-466c-abec-88e59a7e4cf2",
   "metadata": {},
   "outputs": [],
   "source": [
    "data = json_result['data']"
   ]
  },
  {
   "cell_type": "code",
   "execution_count": 28,
   "id": "1787205b-1b4f-407b-bfbf-fa7a08a2f187",
   "metadata": {},
   "outputs": [
    {
     "name": "stdout",
     "output_type": "stream",
     "text": [
      "name = Bhaumik Bhat, email = bhaumik_bhat@padberg-predovic.test, gender = male, status = active\n",
      "name = Gauranga Khanna, email = khanna_gauranga@krajcik-hamill.test, gender = female, status = inactive\n",
      "name = Ajeet Pothuvaal, email = ajeet_pothuvaal@rogahn.test, gender = male, status = inactive\n",
      "name = Anand Dutta, email = anand_dutta@ziemann.test, gender = female, status = inactive\n",
      "name = Bhisham Nayar, email = nayar_bhisham@tremblay-friesen.example, gender = male, status = active\n",
      "name = Rukmin Kaur, email = rukmin_kaur@bashirian.test, gender = female, status = active\n",
      "name = Deeksha Marar Esq., email = deeksha_marar_esq@grady.example, gender = female, status = inactive\n",
      "name = Shwet Butt, email = butt_shwet@jerde.example, gender = male, status = active\n",
      "name = Deevakar Khan, email = khan_deevakar@williamson.example, gender = male, status = inactive\n",
      "name = Dhanalakshmi Bharadwaj, email = bharadwaj_dhanalakshmi@tillman.example, gender = male, status = inactive\n"
     ]
    }
   ],
   "source": [
    "for raw in data:\n",
    "    print('name = {}, email = {}, gender = {}, status = {}'.format(raw['name'],raw['email'],raw['gender'],raw['status']))"
   ]
  },
  {
   "cell_type": "code",
   "execution_count": 40,
   "id": "ec13b158-3a61-420d-a089-fdfa88bd46de",
   "metadata": {},
   "outputs": [],
   "source": [
    "import csv\n",
    "with open('employee.csv','w',newline='') as f:\n",
    "    writer = csv.DictWriter(f,fieldnames=['name','email','gender','status'])\n",
    "    writer.writeheader()\n",
    "    for raw in data:\n",
    "        writer.writerow({'name':raw['name'],\n",
    "                         'email':raw['email'],\n",
    "                         'gender':raw['gender'],\n",
    "                         'status': 1 if raw['status'] == 'active' else 0})"
   ]
  },
  {
   "cell_type": "code",
   "execution_count": 34,
   "id": "ff7a6981-454e-4822-92b7-0d7df821bb0c",
   "metadata": {},
   "outputs": [],
   "source": [
    "import pandas as pd"
   ]
  },
  {
   "cell_type": "code",
   "execution_count": 42,
   "id": "3d6836bd-54a1-4485-b24e-5cce6b66a5e7",
   "metadata": {},
   "outputs": [],
   "source": [
    "df = pd.read_csv('employee.csv')"
   ]
  },
  {
   "cell_type": "code",
   "execution_count": 44,
   "id": "e819a055-c7d9-4eaf-a3ed-327e37ad7d27",
   "metadata": {},
   "outputs": [
    {
     "data": {
      "text/html": [
       "<div>\n",
       "<style scoped>\n",
       "    .dataframe tbody tr th:only-of-type {\n",
       "        vertical-align: middle;\n",
       "    }\n",
       "\n",
       "    .dataframe tbody tr th {\n",
       "        vertical-align: top;\n",
       "    }\n",
       "\n",
       "    .dataframe thead th {\n",
       "        text-align: right;\n",
       "    }\n",
       "</style>\n",
       "<table border=\"1\" class=\"dataframe\">\n",
       "  <thead>\n",
       "    <tr style=\"text-align: right;\">\n",
       "      <th></th>\n",
       "      <th>name</th>\n",
       "      <th>email</th>\n",
       "      <th>gender</th>\n",
       "      <th>status</th>\n",
       "    </tr>\n",
       "  </thead>\n",
       "  <tbody>\n",
       "    <tr>\n",
       "      <th>0</th>\n",
       "      <td>Bhaumik Bhat</td>\n",
       "      <td>bhaumik_bhat@padberg-predovic.test</td>\n",
       "      <td>male</td>\n",
       "      <td>1</td>\n",
       "    </tr>\n",
       "    <tr>\n",
       "      <th>1</th>\n",
       "      <td>Gauranga Khanna</td>\n",
       "      <td>khanna_gauranga@krajcik-hamill.test</td>\n",
       "      <td>female</td>\n",
       "      <td>0</td>\n",
       "    </tr>\n",
       "    <tr>\n",
       "      <th>2</th>\n",
       "      <td>Ajeet Pothuvaal</td>\n",
       "      <td>ajeet_pothuvaal@rogahn.test</td>\n",
       "      <td>male</td>\n",
       "      <td>0</td>\n",
       "    </tr>\n",
       "    <tr>\n",
       "      <th>3</th>\n",
       "      <td>Anand Dutta</td>\n",
       "      <td>anand_dutta@ziemann.test</td>\n",
       "      <td>female</td>\n",
       "      <td>0</td>\n",
       "    </tr>\n",
       "    <tr>\n",
       "      <th>4</th>\n",
       "      <td>Bhisham Nayar</td>\n",
       "      <td>nayar_bhisham@tremblay-friesen.example</td>\n",
       "      <td>male</td>\n",
       "      <td>1</td>\n",
       "    </tr>\n",
       "    <tr>\n",
       "      <th>5</th>\n",
       "      <td>Rukmin Kaur</td>\n",
       "      <td>rukmin_kaur@bashirian.test</td>\n",
       "      <td>female</td>\n",
       "      <td>1</td>\n",
       "    </tr>\n",
       "    <tr>\n",
       "      <th>6</th>\n",
       "      <td>Deeksha Marar Esq.</td>\n",
       "      <td>deeksha_marar_esq@grady.example</td>\n",
       "      <td>female</td>\n",
       "      <td>0</td>\n",
       "    </tr>\n",
       "    <tr>\n",
       "      <th>7</th>\n",
       "      <td>Shwet Butt</td>\n",
       "      <td>butt_shwet@jerde.example</td>\n",
       "      <td>male</td>\n",
       "      <td>1</td>\n",
       "    </tr>\n",
       "    <tr>\n",
       "      <th>8</th>\n",
       "      <td>Deevakar Khan</td>\n",
       "      <td>khan_deevakar@williamson.example</td>\n",
       "      <td>male</td>\n",
       "      <td>0</td>\n",
       "    </tr>\n",
       "    <tr>\n",
       "      <th>9</th>\n",
       "      <td>Dhanalakshmi Bharadwaj</td>\n",
       "      <td>bharadwaj_dhanalakshmi@tillman.example</td>\n",
       "      <td>male</td>\n",
       "      <td>0</td>\n",
       "    </tr>\n",
       "  </tbody>\n",
       "</table>\n",
       "</div>"
      ],
      "text/plain": [
       "                     name                                   email  gender  \\\n",
       "0            Bhaumik Bhat      bhaumik_bhat@padberg-predovic.test    male   \n",
       "1         Gauranga Khanna     khanna_gauranga@krajcik-hamill.test  female   \n",
       "2         Ajeet Pothuvaal             ajeet_pothuvaal@rogahn.test    male   \n",
       "3             Anand Dutta                anand_dutta@ziemann.test  female   \n",
       "4           Bhisham Nayar  nayar_bhisham@tremblay-friesen.example    male   \n",
       "5             Rukmin Kaur              rukmin_kaur@bashirian.test  female   \n",
       "6      Deeksha Marar Esq.         deeksha_marar_esq@grady.example  female   \n",
       "7              Shwet Butt                butt_shwet@jerde.example    male   \n",
       "8           Deevakar Khan        khan_deevakar@williamson.example    male   \n",
       "9  Dhanalakshmi Bharadwaj  bharadwaj_dhanalakshmi@tillman.example    male   \n",
       "\n",
       "   status  \n",
       "0       1  \n",
       "1       0  \n",
       "2       0  \n",
       "3       0  \n",
       "4       1  \n",
       "5       1  \n",
       "6       0  \n",
       "7       1  \n",
       "8       0  \n",
       "9       0  "
      ]
     },
     "execution_count": 44,
     "metadata": {},
     "output_type": "execute_result"
    }
   ],
   "source": [
    "df"
   ]
  },
  {
   "cell_type": "code",
   "execution_count": 48,
   "id": "b6f01b67-d0fb-4192-85c5-272dfe62cbcf",
   "metadata": {},
   "outputs": [
    {
     "data": {
      "text/plain": [
       "gender\n",
       "male      6\n",
       "female    4\n",
       "Name: count, dtype: int64"
      ]
     },
     "execution_count": 48,
     "metadata": {},
     "output_type": "execute_result"
    }
   ],
   "source": [
    "df['gender'].value_counts()"
   ]
  },
  {
   "cell_type": "code",
   "execution_count": null,
   "id": "81370e9b-dc03-4740-851e-2b43248494c0",
   "metadata": {},
   "outputs": [],
   "source": []
  }
 ],
 "metadata": {
  "kernelspec": {
   "display_name": "Python 3 (ipykernel)",
   "language": "python",
   "name": "python3"
  },
  "language_info": {
   "codemirror_mode": {
    "name": "ipython",
    "version": 3
   },
   "file_extension": ".py",
   "mimetype": "text/x-python",
   "name": "python",
   "nbconvert_exporter": "python",
   "pygments_lexer": "ipython3",
   "version": "3.11.7"
  },
  "widgets": {
   "application/vnd.jupyter.widget-state+json": {
    "state": {},
    "version_major": 2,
    "version_minor": 0
   }
  }
 },
 "nbformat": 4,
 "nbformat_minor": 5
}
